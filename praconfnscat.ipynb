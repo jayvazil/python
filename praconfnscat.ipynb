{
  "nbformat": 4,
  "nbformat_minor": 0,
  "metadata": {
    "colab": {
      "provenance": [],
      "authorship_tag": "ABX9TyOS+ONXsaWaRzzGQDirqODK",
      "include_colab_link": true
    },
    "kernelspec": {
      "name": "python3",
      "display_name": "Python 3"
    },
    "language_info": {
      "name": "python"
    }
  },
  "cells": [
    {
      "cell_type": "markdown",
      "metadata": {
        "id": "view-in-github",
        "colab_type": "text"
      },
      "source": [
        "<a href=\"https://colab.research.google.com/github/jayvazil/python/blob/main/praconfnscat.ipynb\" target=\"_parent\"><img src=\"https://colab.research.google.com/assets/colab-badge.svg\" alt=\"Open In Colab\"/></a>"
      ]
    },
    {
      "cell_type": "code",
      "execution_count": null,
      "metadata": {
        "colab": {
          "base_uri": "https://localhost:8080/"
        },
        "id": "6NB5q6D59rmL",
        "outputId": "3106ac13-3112-4aa5-ef59-2e38f355e18d"
      },
      "outputs": [
        {
          "output_type": "stream",
          "name": "stdout",
          "text": [
            "name = Alice\n",
            "age = 30\n",
            "country = Kenya\n"
          ]
        }
      ],
      "source": [
        "#keyword argument\n",
        "def function_name(**kwargs):\n",
        "    for key, value in kwargs.items():\n",
        "        print(f\"{key} = {value}\")\n",
        "function_name(name=\"Alice\", age=30, country=\"Kenya\")\n"
      ]
    },
    {
      "cell_type": "code",
      "source": [
        "#default argument\n",
        "def greet(name=\"Guest\"):\n",
        "    print(f\"Hello, {name}!\")\n",
        "greet(\"Alice\")  # Outputs: Hello, Alice!\n",
        "greet()         # Outputs: Hello, Guest!\n"
      ],
      "metadata": {
        "colab": {
          "base_uri": "https://localhost:8080/"
        },
        "id": "fZ0kfDqA-yvu",
        "outputId": "0c38deec-ca49-4f0b-af6e-7b651b903b50"
      },
      "execution_count": null,
      "outputs": [
        {
          "output_type": "stream",
          "name": "stdout",
          "text": [
            "Hello, Alice!\n",
            "Hello, Guest!\n"
          ]
        }
      ]
    },
    {
      "cell_type": "code",
      "source": [
        "def day_in_words():\n",
        "    # Dictionary to map numbers to days\n",
        "    days = {\n",
        "        1: \"Monday\",\n",
        "        2: \"Tuesday\",\n",
        "        3: \"Wednesday\",\n",
        "        4: \"Thursday\",\n",
        "        5: \"Friday\",\n",
        "        6: \"Saturday\",\n",
        "        7: \"Sunday\"\n",
        "    }\n",
        "\n",
        "    # Get user input\n",
        "    try:\n",
        "        day_number = int(input(\"Enter a number (1-7) to get the day of the week: \"))\n",
        "        # Return the corresponding day or a message for invalid input\n",
        "        print(days.get(day_number, \"Invalid day number! Please use a number between 1 and 7.\"))\n",
        "    except ValueError:\n",
        "        print(\"Invalid input! Please enter a valid number.\")\n",
        "\n",
        "# Call the function\n",
        "day_in_words()\n"
      ],
      "metadata": {
        "colab": {
          "base_uri": "https://localhost:8080/"
        },
        "id": "HFcvEWuv_OIJ",
        "outputId": "ecd07125-bfd8-4e15-e14f-ca365a032b61"
      },
      "execution_count": null,
      "outputs": [
        {
          "output_type": "stream",
          "name": "stdout",
          "text": [
            "Enter a number (1-7) to get the day of the week: 5\n",
            "Friday\n"
          ]
        }
      ]
    },
    {
      "cell_type": "code",
      "source": [
        "def day_in_words():\n",
        "    try:\n",
        "        # Get user input\n",
        "        day_number = int(input(\"Enter a number (1-7) to get the day of the week: \"))\n",
        "\n",
        "        # Use match statement to determine the day\n",
        "        match day_number:\n",
        "            case 1:\n",
        "                print(\"Monday\")\n",
        "            case 2:\n",
        "                print(\"Tuesday\")\n",
        "            case 3:\n",
        "                print(\"Wednesday\")\n",
        "            case 4:\n",
        "                print(\"Thursday\")\n",
        "            case 5:\n",
        "                print(\"Friday\")\n",
        "            case 6:\n",
        "                print(\"Saturday\")\n",
        "            case 7:\n",
        "                print(\"Sunday\")\n",
        "            case _:\n",
        "                print(\"Invalid day number! Please use a number between 1 and 7.\")\n",
        "    except ValueError:\n",
        "        print(\"Invalid input! Please enter a valid number.\")\n",
        "\n",
        "# Call the function\n",
        "day_in_words()\n"
      ],
      "metadata": {
        "colab": {
          "base_uri": "https://localhost:8080/"
        },
        "id": "UY-SlBVyAN7P",
        "outputId": "1c4ae57b-fd90-481f-f14a-707ef1888640"
      },
      "execution_count": null,
      "outputs": [
        {
          "output_type": "stream",
          "name": "stdout",
          "text": [
            "Enter a number (1-7) to get the day of the week: 3\n",
            "Wednesday\n"
          ]
        }
      ]
    },
    {
      "cell_type": "code",
      "source": [
        "def count_vowels(input_string):\n",
        "    # Define a set of vowels (both lowercase and uppercase)\n",
        "    vowels = {'a', 'e', 'i', 'o', 'u', 'A', 'E', 'I', 'O', 'U'}\n",
        "    # Initialize a counter\n",
        "    count = 0\n",
        "    # Loop through each character in the string\n",
        "    for char in input_string:\n",
        "        if char in vowels:\n",
        "            count += 1\n",
        "    return count\n",
        "\n",
        "# Example usage\n",
        "user_input = input(\"Enter a string: \")\n",
        "print(f\"The number of vowels in the string is: {count_vowels(user_input)}\")\n"
      ],
      "metadata": {
        "colab": {
          "base_uri": "https://localhost:8080/"
        },
        "id": "YZNTkj6aAfmW",
        "outputId": "8cee2a01-46a3-4cca-bd98-9a4f93f00360"
      },
      "execution_count": null,
      "outputs": [
        {
          "output_type": "stream",
          "name": "stdout",
          "text": [
            "Enter a string: jackton\n",
            "The number of vowels in the string is: 2\n"
          ]
        }
      ]
    },
    {
      "cell_type": "code",
      "source": [
        "def list_no(numbers):\n",
        "    return sum(num for num in numbers if num % 2 ==0)\n",
        "list = [4,5,6,7,8,9,2,10]\n",
        "print(f\"Sum of even numbers is:  {list_no(list)}\")\n"
      ],
      "metadata": {
        "colab": {
          "base_uri": "https://localhost:8080/"
        },
        "id": "eVI76ZI2BywS",
        "outputId": "9dd48e08-61f7-4b3d-f2ec-cd8dda40e9c1"
      },
      "execution_count": null,
      "outputs": [
        {
          "output_type": "stream",
          "name": "stdout",
          "text": [
            "Sum of even numbers is:  30\n"
          ]
        }
      ]
    },
    {
      "cell_type": "code",
      "source": [
        "def sum_of_evens():\n",
        "    try:\n",
        "        # Get user input\n",
        "        numbers = input(\"Enter a list of numbers, separated by spaces: \")\n",
        "        # Convert input string into a list of integers\n",
        "        numbers_list = [int(num) for num in numbers.split()]\n",
        "        # Calculate the sum of even numbers\n",
        "        even_sum = sum(num for num in numbers_list if num % 2 == 0)\n",
        "        print(f\"The sum of even numbers is: {even_sum}\")\n",
        "    except ValueError:\n",
        "        print(\"Invalid input! Please make sure to enter valid integers.\")\n",
        "\n",
        "# Call the function\n",
        "sum_of_evens()\n"
      ],
      "metadata": {
        "colab": {
          "base_uri": "https://localhost:8080/"
        },
        "id": "xPAzp3KuEbvF",
        "outputId": "7af2c08c-19b8-42b9-ca94-5280d359b41c"
      },
      "execution_count": null,
      "outputs": [
        {
          "output_type": "stream",
          "name": "stdout",
          "text": [
            "Enter a list of numbers, separated by spaces: 5 4 2 3 6 7 8 9 10 \n",
            "The sum of even numbers is: 30\n"
          ]
        }
      ]
    },
    {
      "cell_type": "code",
      "source": [
        "def second_largest(*numbers):\n",
        "    # Convert the numbers into a set to remove duplicates and then sort in descending order\n",
        "    unique_numbers = sorted(set(numbers), reverse=True)\n",
        "    # Check if there are at least two unique numbers\n",
        "    if len(unique_numbers) < 2:\n",
        "        return \"Not enough unique numbers to determine the second largest.\"\n",
        "    return unique_numbers[1]\n",
        "\n",
        "# Example usage\n",
        "print(second_largest(4, 2, 6, 8, 9, 10))  # Outputs: 8\n",
        "print(second_largest(5))                 # Outputs: Not enough unique numbers to determine the second largest.\n"
      ],
      "metadata": {
        "colab": {
          "base_uri": "https://localhost:8080/"
        },
        "id": "ipklEJcwHROf",
        "outputId": "82ebec8d-1776-4ca2-9826-8eeac425ad4f"
      },
      "execution_count": null,
      "outputs": [
        {
          "output_type": "stream",
          "name": "stdout",
          "text": [
            "9\n",
            "Not enough unique numbers to determine the second largest.\n"
          ]
        }
      ]
    },
    {
      "cell_type": "code",
      "source": [
        "def second_largest():\n",
        "    try:\n",
        "        # Get user input\n",
        "        numbers = input(\"Enter a list of numbers, separated by spaces: \")\n",
        "        # Convert input string into a list of integers\n",
        "        numbers_list = [int(num) for num in numbers.split()]\n",
        "        # Remove duplicates and sort in descending order\n",
        "        unique_numbers = sorted(set(numbers_list), reverse=True)\n",
        "        # Check if there are at least two unique numbers\n",
        "        if len(unique_numbers) < 2:\n",
        "            print(\"Not enough unique numbers to determine the second largest.\")\n",
        "        else:\n",
        "            print(f\"The second largest number is: {unique_numbers[1]}\")\n",
        "    except ValueError:\n",
        "        print(\"Invalid input! Please make sure to enter valid integers.\")\n",
        "\n",
        "# Call the function\n",
        "second_largest()\n"
      ],
      "metadata": {
        "colab": {
          "base_uri": "https://localhost:8080/"
        },
        "id": "whvlrqFWID0c",
        "outputId": "c0caaf89-7caa-4cba-c429-c0ef2ebe5c0e"
      },
      "execution_count": null,
      "outputs": [
        {
          "output_type": "stream",
          "name": "stdout",
          "text": [
            "Enter a list of numbers, separated by spaces: 1 2 3 4 5 6 7 8 9 10\n",
            "The second largest number is: 9\n"
          ]
        }
      ]
    },
    {
      "cell_type": "code",
      "source": [
        "myletters = ['b','k','m','p','s','w']\n",
        "result1= myletters[3:4]\n",
        "print(result1)"
      ],
      "metadata": {
        "colab": {
          "base_uri": "https://localhost:8080/"
        },
        "id": "mBN00LPtITLU",
        "outputId": "5c962303-bdd7-4628-b736-17e33e960ef0"
      },
      "execution_count": null,
      "outputs": [
        {
          "output_type": "stream",
          "name": "stdout",
          "text": [
            "['p']\n"
          ]
        }
      ]
    },
    {
      "cell_type": "code",
      "source": [
        "result2= myletters[::2]\n",
        "print(result2)"
      ],
      "metadata": {
        "colab": {
          "base_uri": "https://localhost:8080/"
        },
        "id": "psCEgHPoKU2Z",
        "outputId": "efa18bf6-7366-4905-c703-ae962f3f5206"
      },
      "execution_count": null,
      "outputs": [
        {
          "output_type": "stream",
          "name": "stdout",
          "text": [
            "['b', 'm', 's']\n"
          ]
        }
      ]
    },
    {
      "cell_type": "code",
      "source": [
        "result3= myletters[-1:-3:-1]\n",
        "print(result3)"
      ],
      "metadata": {
        "colab": {
          "base_uri": "https://localhost:8080/"
        },
        "id": "FICWlfQmKe6V",
        "outputId": "15e40b1a-cbd0-48ee-a0bd-dc64127f97c2"
      },
      "execution_count": null,
      "outputs": [
        {
          "output_type": "stream",
          "name": "stdout",
          "text": [
            "['w', 's']\n"
          ]
        }
      ]
    },
    {
      "cell_type": "code",
      "source": [
        "def calculate_factorial(number):\n",
        "    # Initialize the factorial result to 1 (factorial of 0 is 1)\n",
        "    factorial = 1\n",
        "    # Use a loop to calculate the factorial\n",
        "    for i in range(1, number + 1):\n",
        "        factorial *= i\n",
        "    return factorial\n",
        "\n",
        "# Example usage\n",
        "num = int(input(\"Enter a number to calculate its factorial: \"))\n",
        "if num < 0:\n",
        "    print(\"Factorial is not defined for negative numbers.\")\n",
        "else:\n",
        "    print(f\"The factorial of {num} is: {calculate_factorial(num)}\")\n"
      ],
      "metadata": {
        "colab": {
          "base_uri": "https://localhost:8080/"
        },
        "id": "nyWj07Y3K47s",
        "outputId": "21860ce6-5921-4cec-b6cf-9b03e99656a3"
      },
      "execution_count": null,
      "outputs": [
        {
          "output_type": "stream",
          "name": "stdout",
          "text": [
            "Enter a number to calculate its factorial: 6\n",
            "The factorial of 6 is: 720\n"
          ]
        }
      ]
    }
  ]
}