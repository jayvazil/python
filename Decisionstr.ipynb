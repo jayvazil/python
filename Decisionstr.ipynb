{
  "nbformat": 4,
  "nbformat_minor": 0,
  "metadata": {
    "colab": {
      "provenance": [],
      "authorship_tag": "ABX9TyMfmvLMoNvn8VuzhfHPL96i",
      "include_colab_link": true
    },
    "kernelspec": {
      "name": "python3",
      "display_name": "Python 3"
    },
    "language_info": {
      "name": "python"
    }
  },
  "cells": [
    {
      "cell_type": "markdown",
      "metadata": {
        "id": "view-in-github",
        "colab_type": "text"
      },
      "source": [
        "<a href=\"https://colab.research.google.com/github/jayvazil/python/blob/main/Decisionstr.ipynb\" target=\"_parent\"><img src=\"https://colab.research.google.com/assets/colab-badge.svg\" alt=\"Open In Colab\"/></a>"
      ]
    },
    {
      "cell_type": "code",
      "execution_count": null,
      "metadata": {
        "colab": {
          "base_uri": "https://localhost:8080/"
        },
        "id": "BS1Pomd65gIH",
        "outputId": "13a40c37-57be-43a8-8611-f53d797f9f86"
      },
      "outputs": [
        {
          "output_type": "stream",
          "name": "stdout",
          "text": [
            "Above 18 years\n",
            "Male hostel\n"
          ]
        }
      ],
      "source": [
        "x=21\n",
        "gender=\"M\"\n",
        "if (x>18):\n",
        "  print(\"Above 18 years\")\n",
        "  if (gender==\"M\"):\n",
        "    print(\"Male hostel\")\n",
        "  else:\n",
        "    print(\"Female hostel\")\n",
        "else:\n",
        "    print(\"Below 18 years\")"
      ]
    },
    {
      "cell_type": "code",
      "source": [
        "score=int(input(\"Enter your score\"))\n",
        "if (score<40):\n",
        "  grade='E'\n",
        "elif(score<50):\n",
        "    grade='D'\n",
        "elif(score<60):\n",
        "    grade='C'\n",
        "elif(score<80):\n",
        "    grade='B'\n",
        "elif(score<=100):\n",
        "    grade='A'\n",
        "else:\n",
        "   grade='Invalid'\n",
        "print(\"Your grade is\",grade)"
      ],
      "metadata": {
        "colab": {
          "base_uri": "https://localhost:8080/",
          "height": 356
        },
        "id": "q1FCwXol7AeY",
        "outputId": "6c611f8f-1109-4397-bf44-433a63ee636c"
      },
      "execution_count": null,
      "outputs": [
        {
          "output_type": "error",
          "ename": "KeyboardInterrupt",
          "evalue": "Interrupted by user",
          "traceback": [
            "\u001b[0;31m---------------------------------------------------------------------------\u001b[0m",
            "\u001b[0;31mKeyboardInterrupt\u001b[0m                         Traceback (most recent call last)",
            "\u001b[0;32m<ipython-input-6-a5e4e130cf82>\u001b[0m in \u001b[0;36m<cell line: 0>\u001b[0;34m()\u001b[0m\n\u001b[0;32m----> 1\u001b[0;31m \u001b[0mscore\u001b[0m\u001b[0;34m=\u001b[0m\u001b[0mint\u001b[0m\u001b[0;34m(\u001b[0m\u001b[0minput\u001b[0m\u001b[0;34m(\u001b[0m\u001b[0;34m\"Enter your score\"\u001b[0m\u001b[0;34m)\u001b[0m\u001b[0;34m)\u001b[0m\u001b[0;34m\u001b[0m\u001b[0;34m\u001b[0m\u001b[0m\n\u001b[0m\u001b[1;32m      2\u001b[0m \u001b[0;32mif\u001b[0m \u001b[0;34m(\u001b[0m\u001b[0mscore\u001b[0m\u001b[0;34m<\u001b[0m\u001b[0;36m40\u001b[0m\u001b[0;34m)\u001b[0m\u001b[0;34m:\u001b[0m\u001b[0;34m\u001b[0m\u001b[0;34m\u001b[0m\u001b[0m\n\u001b[1;32m      3\u001b[0m   \u001b[0mgrade\u001b[0m\u001b[0;34m=\u001b[0m\u001b[0;34m'E'\u001b[0m\u001b[0;34m\u001b[0m\u001b[0;34m\u001b[0m\u001b[0m\n\u001b[1;32m      4\u001b[0m \u001b[0;32melif\u001b[0m\u001b[0;34m(\u001b[0m\u001b[0mscore\u001b[0m\u001b[0;34m<\u001b[0m\u001b[0;36m50\u001b[0m\u001b[0;34m)\u001b[0m\u001b[0;34m:\u001b[0m\u001b[0;34m\u001b[0m\u001b[0;34m\u001b[0m\u001b[0m\n\u001b[1;32m      5\u001b[0m     \u001b[0mgrade\u001b[0m\u001b[0;34m=\u001b[0m\u001b[0;34m'D'\u001b[0m\u001b[0;34m\u001b[0m\u001b[0;34m\u001b[0m\u001b[0m\n",
            "\u001b[0;32m/usr/local/lib/python3.11/dist-packages/ipykernel/kernelbase.py\u001b[0m in \u001b[0;36mraw_input\u001b[0;34m(self, prompt)\u001b[0m\n\u001b[1;32m    849\u001b[0m                 \u001b[0;34m\"raw_input was called, but this frontend does not support input requests.\"\u001b[0m\u001b[0;34m\u001b[0m\u001b[0;34m\u001b[0m\u001b[0m\n\u001b[1;32m    850\u001b[0m             )\n\u001b[0;32m--> 851\u001b[0;31m         return self._input_request(str(prompt),\n\u001b[0m\u001b[1;32m    852\u001b[0m             \u001b[0mself\u001b[0m\u001b[0;34m.\u001b[0m\u001b[0m_parent_ident\u001b[0m\u001b[0;34m,\u001b[0m\u001b[0;34m\u001b[0m\u001b[0;34m\u001b[0m\u001b[0m\n\u001b[1;32m    853\u001b[0m             \u001b[0mself\u001b[0m\u001b[0;34m.\u001b[0m\u001b[0m_parent_header\u001b[0m\u001b[0;34m,\u001b[0m\u001b[0;34m\u001b[0m\u001b[0;34m\u001b[0m\u001b[0m\n",
            "\u001b[0;32m/usr/local/lib/python3.11/dist-packages/ipykernel/kernelbase.py\u001b[0m in \u001b[0;36m_input_request\u001b[0;34m(self, prompt, ident, parent, password)\u001b[0m\n\u001b[1;32m    893\u001b[0m             \u001b[0;32mexcept\u001b[0m \u001b[0mKeyboardInterrupt\u001b[0m\u001b[0;34m:\u001b[0m\u001b[0;34m\u001b[0m\u001b[0;34m\u001b[0m\u001b[0m\n\u001b[1;32m    894\u001b[0m                 \u001b[0;31m# re-raise KeyboardInterrupt, to truncate traceback\u001b[0m\u001b[0;34m\u001b[0m\u001b[0;34m\u001b[0m\u001b[0m\n\u001b[0;32m--> 895\u001b[0;31m                 \u001b[0;32mraise\u001b[0m \u001b[0mKeyboardInterrupt\u001b[0m\u001b[0;34m(\u001b[0m\u001b[0;34m\"Interrupted by user\"\u001b[0m\u001b[0;34m)\u001b[0m \u001b[0;32mfrom\u001b[0m \u001b[0;32mNone\u001b[0m\u001b[0;34m\u001b[0m\u001b[0;34m\u001b[0m\u001b[0m\n\u001b[0m\u001b[1;32m    896\u001b[0m             \u001b[0;32mexcept\u001b[0m \u001b[0mException\u001b[0m \u001b[0;32mas\u001b[0m \u001b[0me\u001b[0m\u001b[0;34m:\u001b[0m\u001b[0;34m\u001b[0m\u001b[0;34m\u001b[0m\u001b[0m\n\u001b[1;32m    897\u001b[0m                 \u001b[0mself\u001b[0m\u001b[0;34m.\u001b[0m\u001b[0mlog\u001b[0m\u001b[0;34m.\u001b[0m\u001b[0mwarning\u001b[0m\u001b[0;34m(\u001b[0m\u001b[0;34m\"Invalid Message:\"\u001b[0m\u001b[0;34m,\u001b[0m \u001b[0mexc_info\u001b[0m\u001b[0;34m=\u001b[0m\u001b[0;32mTrue\u001b[0m\u001b[0;34m)\u001b[0m\u001b[0;34m\u001b[0m\u001b[0;34m\u001b[0m\u001b[0m\n",
            "\u001b[0;31mKeyboardInterrupt\u001b[0m: Interrupted by user"
          ]
        }
      ]
    },
    {
      "cell_type": "code",
      "source": [
        "# prompt: add match statement\n",
        "\n",
        "x = 21\n",
        "gender = \"M\"\n",
        "\n",
        "if x > 18:\n",
        "  print(\"Above 18 years\")\n",
        "  match gender:\n",
        "    case \"M\":\n",
        "      print(\"Male hostel\")\n",
        "    case \"F\":\n",
        "      print(\"Female hostel\")\n",
        "    case _:\n",
        "      print(\"Other hostel\")\n",
        "else:\n",
        "    print(\"Below 18 years\")\n",
        "\n",
        "score = int(input(\"Enter your score\"))\n",
        "\n",
        "match score:\n",
        "    case _ if score < 40:\n",
        "        grade = 'E'\n",
        "    case _ if score < 50:\n",
        "        grade = 'D'\n",
        "    case _ if score < 60:\n",
        "        grade = 'C'\n",
        "    case _ if score < 80:\n",
        "        grade = 'B'\n",
        "    case _ if score <= 100:\n",
        "        grade = 'A'\n",
        "    case _:\n",
        "        grade = 'Invalid'\n",
        "\n",
        "print(\"Your grade is\", grade)\n"
      ],
      "metadata": {
        "colab": {
          "base_uri": "https://localhost:8080/"
        },
        "id": "2xHr1Hmc9by8",
        "outputId": "5db2111b-4722-4ae9-f3b3-52ffb4d557d5"
      },
      "execution_count": null,
      "outputs": [
        {
          "output_type": "stream",
          "name": "stdout",
          "text": [
            "Above 18 years\n",
            "Male hostel\n",
            "Enter your score98\n",
            "Your grade is A\n"
          ]
        }
      ]
    },
    {
      "cell_type": "code",
      "source": [
        "m=0\n",
        "while (m<10):\n",
        "  print(m)\n",
        "  m+=1"
      ],
      "metadata": {
        "colab": {
          "base_uri": "https://localhost:8080/"
        },
        "id": "qQqutSnk9tho",
        "outputId": "d9f13711-6d1e-49d0-d2b8-6290c943861f"
      },
      "execution_count": null,
      "outputs": [
        {
          "output_type": "stream",
          "name": "stdout",
          "text": [
            "0\n",
            "1\n",
            "2\n",
            "3\n",
            "4\n",
            "5\n",
            "6\n",
            "7\n",
            "8\n",
            "9\n"
          ]
        }
      ]
    },
    {
      "cell_type": "markdown",
      "source": [
        "**iteration**"
      ],
      "metadata": {
        "id": "iZoIUgukAv9W"
      }
    },
    {
      "cell_type": "code",
      "source": [
        "x=\"UNIVERSITY\"\n",
        "for t in x:\n",
        "  print(t)"
      ],
      "metadata": {
        "colab": {
          "base_uri": "https://localhost:8080/"
        },
        "id": "9f7zwOKh-cJF",
        "outputId": "82bac1bc-4baa-4a3d-f981-b3637775bc39"
      },
      "execution_count": null,
      "outputs": [
        {
          "output_type": "stream",
          "name": "stdout",
          "text": [
            "U\n",
            "N\n",
            "I\n",
            "V\n",
            "E\n",
            "R\n",
            "S\n",
            "I\n",
            "T\n",
            "Y\n"
          ]
        }
      ]
    },
    {
      "cell_type": "code",
      "source": [
        "for t in range(11,19,2):\n",
        "  print(t)"
      ],
      "metadata": {
        "colab": {
          "base_uri": "https://localhost:8080/"
        },
        "id": "MOPgwW-DA08K",
        "outputId": "486963ea-3851-457a-ce5f-da4d8ae8792a"
      },
      "execution_count": null,
      "outputs": [
        {
          "output_type": "stream",
          "name": "stdout",
          "text": [
            "11\n",
            "13\n",
            "15\n",
            "17\n"
          ]
        }
      ]
    },
    {
      "cell_type": "markdown",
      "source": [
        "**loop** **control** **statemants**"
      ],
      "metadata": {
        "id": "fRPQbr4sBRBu"
      }
    },
    {
      "cell_type": "code",
      "source": [
        "m=0\n",
        "while (m<10):\n",
        "  print(m)\n",
        "  m+=1\n",
        "  if (m==5):break"
      ],
      "metadata": {
        "colab": {
          "base_uri": "https://localhost:8080/"
        },
        "id": "XMoF8d5rBaJK",
        "outputId": "40619b82-3aae-4e14-fbaf-38a200edcc06"
      },
      "execution_count": null,
      "outputs": [
        {
          "output_type": "stream",
          "name": "stdout",
          "text": [
            "0\n",
            "1\n",
            "2\n",
            "3\n",
            "4\n"
          ]
        }
      ]
    },
    {
      "cell_type": "code",
      "source": [
        "m=0\n",
        "while (m<10):\n",
        "    m+=1\n",
        "    if (m==5):continue\n",
        "    print(m)\n",
        "else:\n",
        "    print(\"End of loop\")\n",
        "\n"
      ],
      "metadata": {
        "colab": {
          "base_uri": "https://localhost:8080/"
        },
        "id": "1ITe61ujCKdN",
        "outputId": "bfa7f962-c095-42e3-f10e-6940b1b314d1"
      },
      "execution_count": null,
      "outputs": [
        {
          "output_type": "stream",
          "name": "stdout",
          "text": [
            "1\n",
            "2\n",
            "3\n",
            "4\n",
            "6\n",
            "7\n",
            "8\n",
            "9\n",
            "10\n",
            "End of loop\n"
          ]
        }
      ]
    },
    {
      "cell_type": "code",
      "source": [
        "balance = 15000\n",
        "if (balance<10000):\n",
        "  print(\"Insufficient balance\")\n",
        "else:\n",
        "  print(\"Sufficient balance\")"
      ],
      "metadata": {
        "colab": {
          "base_uri": "https://localhost:8080/"
        },
        "id": "RPtFrqcdD9Ff",
        "outputId": "af816f80-d655-4c8a-9560-3091922a580b"
      },
      "execution_count": null,
      "outputs": [
        {
          "output_type": "stream",
          "name": "stdout",
          "text": [
            "Sufficient balance\n"
          ]
        }
      ]
    },
    {
      "cell_type": "code",
      "source": [
        "\n",
        "rows = 1\n",
        "while (rows <= 5):\n",
        "  cols=1\n",
        "  while(cols<=5):\n",
        "    print(\"*\",end =\"\")\n",
        "    cols+=1\n",
        "    print(\" \" )\n",
        "    rows += 1\n"
      ],
      "metadata": {
        "colab": {
          "base_uri": "https://localhost:8080/"
        },
        "id": "jWDPgBG5Ef_Y",
        "outputId": "bf810099-9284-4609-ab20-35fcc4d749bf"
      },
      "execution_count": null,
      "outputs": [
        {
          "output_type": "stream",
          "name": "stdout",
          "text": [
            "* \n",
            "* \n",
            "* \n",
            "* \n",
            "* \n"
          ]
        }
      ]
    },
    {
      "cell_type": "code",
      "source": [
        "# prompt: a right angle triangle stars\n",
        "\n",
        "def print_right_angle_triangle(rows):\n",
        "    \"\"\"Prints a right-angled triangle pattern of stars.\"\"\"\n",
        "    for i in range(1, rows + 1):\n",
        "        print(\"*\" * i)\n",
        "\n",
        "# Example usage:\n",
        "print_right_angle_triangle(5)  # Prints a triangle with 5 rows\n"
      ],
      "metadata": {
        "colab": {
          "base_uri": "https://localhost:8080/"
        },
        "id": "F-e-nZheHGrK",
        "outputId": "1451796d-909b-4b6a-da73-1efcbb8e9e80"
      },
      "execution_count": null,
      "outputs": [
        {
          "output_type": "stream",
          "name": "stdout",
          "text": [
            "*\n",
            "**\n",
            "***\n",
            "****\n",
            "*****\n"
          ]
        }
      ]
    },
    {
      "cell_type": "code",
      "source": [],
      "metadata": {
        "id": "k7we33uDJ1dh"
      },
      "execution_count": null,
      "outputs": []
    }
  ]
}