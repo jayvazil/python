{
  "nbformat": 4,
  "nbformat_minor": 0,
  "metadata": {
    "colab": {
      "provenance": [],
      "authorship_tag": "ABX9TyNb3zCRizfee2pg/Qa2FeIJ",
      "include_colab_link": true
    },
    "kernelspec": {
      "name": "python3",
      "display_name": "Python 3"
    },
    "language_info": {
      "name": "python"
    }
  },
  "cells": [
    {
      "cell_type": "markdown",
      "metadata": {
        "id": "view-in-github",
        "colab_type": "text"
      },
      "source": [
        "<a href=\"https://colab.research.google.com/github/jayvazil/python/blob/main/nwchtbt14.ipynb\" target=\"_parent\"><img src=\"https://colab.research.google.com/assets/colab-badge.svg\" alt=\"Open In Colab\"/></a>"
      ]
    },
    {
      "cell_type": "code",
      "execution_count": null,
      "metadata": {
        "colab": {
          "base_uri": "https://localhost:8080/"
        },
        "id": "Eftj--Btwf1Z",
        "outputId": "a6b61769-decf-49a2-94d3-f793de765486"
      },
      "outputs": [
        {
          "output_type": "stream",
          "name": "stdout",
          "text": [
            "Welcome to the Medical Chatbot!\n"
          ]
        }
      ],
      "source": [
        "import random\n",
        "\n",
        "class MedicalChatbot:\n",
        "    def __init__(self):\n",
        "        self.symptoms = []\n",
        "        self.diseases = {\n",
        "            'fever': 'Malaria',\n",
        "            'cough': 'Common Cold',\n",
        "            'headache': 'Migraine',\n",
        "            'chest pain': 'Heart Disease'\n",
        "        }\n",
        "        self.medical_advice = {\n",
        "            'Malaria': 'Take antimalarial medication and rest.',\n",
        "            'Common Cold': 'Drink plenty of fluids and rest. Consider over-the-counter cold medicine.',\n",
        "            'Migraine': 'Rest in a dark, quiet room and consider taking pain relief medication.',\n",
        "            'Heart Disease': 'Consult a cardiologist for proper treatment and lifestyle changes.'\n",
        "        }\n",
        "        self.diet_advice = {\n",
        "            'Malaria': 'Eat a balanced diet with plenty of fruits and vegetables.',\n",
        "            'Common Cold': 'Eat warm soups and stay hydrated.',\n",
        "            'Migraine': 'Avoid caffeine and alcohol. Eat regular meals and stay hydrated.',\n",
        "            'Heart Disease': 'Follow a heart-healthy diet rich in vegetables, fruits, whole grains, and lean proteins.'\n",
        "        }\n",
        "\n",
        "    def get_disease(self, symptoms):\n",
        "        for symptom in symptoms:\n",
        "            if symptom in self.diseases:\n",
        "                return self.diseases[symptom]\n",
        "        return 'Unknown disease'\n",
        "\n",
        "    def get_medical_advice(self, disease):\n",
        "        return self.medical_advice.get(disease, 'Consult a healthcare professional for proper advice.')\n",
        "\n",
        "    def get_diet_advice(self, disease):\n",
        "        return self.diet_advice.get(disease, 'Consult a healthcare professional for proper dietary advice.')\n",
        "\n",
        "    def chat(self):\n",
        "        print(\"Welcome to the Medical Chatbot!\")\n",
        "        self.symptoms = input(\"Please enter your symptoms (comma-separated): \").split(',')\n",
        "        disease = self.get_disease(self.symptoms)\n",
        "        medical_advice = self.get_medical_advice(disease)\n",
        "        diet_advice = self.get_diet_advice(disease)\n",
        "\n",
        "        print(f\"\\nBased on your symptoms, you may have: {disease}\")\n",
        "        print(f\"Medical advice: {medical_advice}\")\n",
        "        print(f\"Dietary advice: {diet_advice}\")\n",
        "\n",
        "# Create an instance of the chatbot and start the chat\n",
        "chatbot = MedicalChatbot()\n",
        "chatbot.chat()\n"
      ]
    }
  ]
}