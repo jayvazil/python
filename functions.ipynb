{
  "nbformat": 4,
  "nbformat_minor": 0,
  "metadata": {
    "colab": {
      "provenance": [],
      "authorship_tag": "ABX9TyM4VRq/xg8liQJNbhsczOLC",
      "include_colab_link": true
    },
    "kernelspec": {
      "name": "python3",
      "display_name": "Python 3"
    },
    "language_info": {
      "name": "python"
    }
  },
  "cells": [
    {
      "cell_type": "markdown",
      "metadata": {
        "id": "view-in-github",
        "colab_type": "text"
      },
      "source": [
        "<a href=\"https://colab.research.google.com/github/jayvazil/python/blob/main/functions.ipynb\" target=\"_parent\"><img src=\"https://colab.research.google.com/assets/colab-badge.svg\" alt=\"Open In Colab\"/></a>"
      ]
    },
    {
      "cell_type": "code",
      "execution_count": null,
      "metadata": {
        "id": "4yRZEk9E2qRm"
      },
      "outputs": [],
      "source": [
        "def add2num(a,b):\n",
        "  \"this is a sill adding function\"\n",
        "  print (\"a= \",a,\"and b= \",b)\n",
        "  ans=a+b\n",
        "  b=b+10\n",
        "  return ans"
      ]
    },
    {
      "cell_type": "code",
      "source": [
        "print(add2num(8,9))"
      ],
      "metadata": {
        "colab": {
          "base_uri": "https://localhost:8080/"
        },
        "id": "vQNUiddx36gO",
        "outputId": "db38e73b-ab9c-4b90-da24-f47b98ea810d"
      },
      "execution_count": null,
      "outputs": [
        {
          "output_type": "stream",
          "name": "stdout",
          "text": [
            "a=  8 and b=  9\n",
            "17\n"
          ]
        }
      ]
    },
    {
      "cell_type": "code",
      "source": [
        "x=[3,4,5,6,7]\n",
        "y=[0,8,1,2]\n",
        "print(\"x= \",x)\n",
        "print(\"y= \",y)"
      ],
      "metadata": {
        "colab": {
          "base_uri": "https://localhost:8080/"
        },
        "id": "437y_OMy6eCy",
        "outputId": "a379d07c-2f7e-40e1-da61-3e3434ffc9fa"
      },
      "execution_count": null,
      "outputs": [
        {
          "output_type": "stream",
          "name": "stdout",
          "text": [
            "x=  [3, 4, 5, 6, 7]\n",
            "y=  [0, 8, 1, 2]\n"
          ]
        }
      ]
    },
    {
      "cell_type": "code",
      "source": [
        "x.append(13)"
      ],
      "metadata": {
        "id": "BYEv4wCh7ln7"
      },
      "execution_count": null,
      "outputs": []
    },
    {
      "cell_type": "code",
      "source": [
        "print(\"x= \",x)"
      ],
      "metadata": {
        "colab": {
          "base_uri": "https://localhost:8080/"
        },
        "id": "uBYeZilxCze8",
        "outputId": "c04ef072-0b5d-488b-892a-50c1b136ca03"
      },
      "execution_count": null,
      "outputs": [
        {
          "output_type": "stream",
          "name": "stdout",
          "text": [
            "x=  [3, 4, 5, 6, 7, 13]\n"
          ]
        }
      ]
    },
    {
      "cell_type": "markdown",
      "source": [
        "req$** **bold text** **default** **arguments**"
      ],
      "metadata": {
        "id": "_v5_f46UDDge"
      }
    },
    {
      "cell_type": "code",
      "source": [
        "def addnum2(c,d):\n",
        "  ans=c/d\n",
        "  print(ans)\n",
        "  return"
      ],
      "metadata": {
        "id": "c4w3OLtyDE9z"
      },
      "execution_count": null,
      "outputs": []
    },
    {
      "cell_type": "code",
      "source": [
        "t=22\n",
        "p=11\n",
        "addnum2(t,p)"
      ],
      "metadata": {
        "colab": {
          "base_uri": "https://localhost:8080/"
        },
        "id": "8cAWAZ24DXMC",
        "outputId": "05b21375-998f-4a75-a4b8-4504972ab428"
      },
      "execution_count": null,
      "outputs": [
        {
          "output_type": "stream",
          "name": "stdout",
          "text": [
            "2.0\n"
          ]
        }
      ]
    },
    {
      "cell_type": "markdown",
      "source": [
        "**keyword** **argu**"
      ],
      "metadata": {
        "id": "HcbcrUcxEBc4"
      }
    },
    {
      "cell_type": "code",
      "source": [
        "x=32\n",
        "y=8\n",
        "addnum2(c=x,d=y)"
      ],
      "metadata": {
        "colab": {
          "base_uri": "https://localhost:8080/"
        },
        "id": "6XSrU_EdEHA_",
        "outputId": "4ccf57c4-66fe-4310-aa39-c6d2994bab9b"
      },
      "execution_count": null,
      "outputs": [
        {
          "output_type": "stream",
          "name": "stdout",
          "text": [
            "4.0\n"
          ]
        }
      ]
    },
    {
      "cell_type": "markdown",
      "source": [
        "**gggg**"
      ],
      "metadata": {
        "id": "5mu0ZGDYIBMB"
      }
    },
    {
      "cell_type": "code",
      "source": [
        "def addnum2(c,*d):\n",
        "  for item in d:\n",
        "   ans=c/item\n",
        "  print(ans)\n",
        "  return"
      ],
      "metadata": {
        "id": "ZKcxcB1zIEoy"
      },
      "execution_count": null,
      "outputs": []
    },
    {
      "cell_type": "code",
      "source": [
        "x=32\n",
        "y=8\n",
        "addnum2(x,y,16,4,2,6)\n"
      ],
      "metadata": {
        "colab": {
          "base_uri": "https://localhost:8080/"
        },
        "id": "-s-X5c-_F0do",
        "outputId": "13817c2a-4cc8-4411-c4b3-eb8e63c2a6dc"
      },
      "execution_count": null,
      "outputs": [
        {
          "output_type": "stream",
          "name": "stdout",
          "text": [
            "5.333333333333333\n"
          ]
        }
      ]
    },
    {
      "cell_type": "markdown",
      "source": [
        "**anonymus** fns"
      ],
      "metadata": {
        "id": "shCGC2WnLOpy"
      }
    },
    {
      "cell_type": "code",
      "source": [
        "calcvol=lambda l,b,h:l*b*h"
      ],
      "metadata": {
        "id": "uBMYOKhzGZqY"
      },
      "execution_count": null,
      "outputs": []
    },
    {
      "cell_type": "code",
      "source": [
        "print(calcvol(2,3,4))"
      ],
      "metadata": {
        "colab": {
          "base_uri": "https://localhost:8080/"
        },
        "id": "1-uAsY0PNON6",
        "outputId": "602a61ff-672b-463c-cce9-f7525193b434"
      },
      "execution_count": null,
      "outputs": [
        {
          "output_type": "stream",
          "name": "stdout",
          "text": [
            "24\n"
          ]
        }
      ]
    },
    {
      "cell_type": "code",
      "source": [],
      "metadata": {
        "id": "_O3DvhXOOOAE"
      },
      "execution_count": null,
      "outputs": []
    }
  ]
}