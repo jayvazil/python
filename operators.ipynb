{
  "nbformat": 4,
  "nbformat_minor": 0,
  "metadata": {
    "colab": {
      "provenance": [],
      "authorship_tag": "ABX9TyP2PRFK3Qq1vplzjOySSiTB",
      "include_colab_link": true
    },
    "kernelspec": {
      "name": "python3",
      "display_name": "Python 3"
    },
    "language_info": {
      "name": "python"
    }
  },
  "cells": [
    {
      "cell_type": "markdown",
      "metadata": {
        "id": "view-in-github",
        "colab_type": "text"
      },
      "source": [
        "<a href=\"https://colab.research.google.com/github/jayvazil/python/blob/main/operators.ipynb\" target=\"_parent\"><img src=\"https://colab.research.google.com/assets/colab-badge.svg\" alt=\"Open In Colab\"/></a>"
      ]
    },
    {
      "cell_type": "code",
      "execution_count": null,
      "metadata": {
        "id": "edAmb_bsyMAL"
      },
      "outputs": [],
      "source": [
        "a=60\n",
        "b=13"
      ]
    },
    {
      "cell_type": "code",
      "source": [
        "print(a&b)"
      ],
      "metadata": {
        "colab": {
          "base_uri": "https://localhost:8080/"
        },
        "id": "leHnbSIn1VQD",
        "outputId": "a2b3b358-e786-4099-a765-860f01cf3c49"
      },
      "execution_count": null,
      "outputs": [
        {
          "output_type": "stream",
          "name": "stdout",
          "text": [
            "12\n"
          ]
        }
      ]
    },
    {
      "cell_type": "code",
      "source": [
        "print(a|b)"
      ],
      "metadata": {
        "colab": {
          "base_uri": "https://localhost:8080/"
        },
        "id": "kPcCgUPZ1vZt",
        "outputId": "17d929fd-e60c-4534-b883-5bb550b6187d"
      },
      "execution_count": null,
      "outputs": [
        {
          "output_type": "stream",
          "name": "stdout",
          "text": [
            "61\n"
          ]
        }
      ]
    },
    {
      "cell_type": "code",
      "source": [
        "print(a^b)"
      ],
      "metadata": {
        "colab": {
          "base_uri": "https://localhost:8080/"
        },
        "id": "B4bIQdjC11dK",
        "outputId": "334f0766-e02d-41d4-e636-ce21d50fc60e"
      },
      "execution_count": null,
      "outputs": [
        {
          "output_type": "stream",
          "name": "stdout",
          "text": [
            "49\n"
          ]
        }
      ]
    },
    {
      "cell_type": "markdown",
      "source": [
        "membership **op**"
      ],
      "metadata": {
        "id": "7MPr1nne3Cb9"
      }
    },
    {
      "cell_type": "code",
      "source": [
        "x=\"univesity\"\n",
        "if(\"e\" in x): print(\"Letter e found\")\n",
        "else:\n",
        "  print(\"Letter e not found\")"
      ],
      "metadata": {
        "colab": {
          "base_uri": "https://localhost:8080/"
        },
        "id": "jNWbjfkb2Um0",
        "outputId": "10a8450b-3242-4e57-82b9-a0983e80d2ef"
      },
      "execution_count": null,
      "outputs": [
        {
          "output_type": "stream",
          "name": "stdout",
          "text": [
            "Letter e found\n"
          ]
        }
      ]
    },
    {
      "cell_type": "markdown",
      "source": [
        "identity **op**"
      ],
      "metadata": {
        "id": "Gj419_U43Ica"
      }
    },
    {
      "cell_type": "code",
      "source": [
        "i=10\n",
        "d=8\n",
        "if(i is d):\n",
        "  print(\"i and d are same\")\n",
        "else:\n",
        "  print(\"i and d are not same\")"
      ],
      "metadata": {
        "colab": {
          "base_uri": "https://localhost:8080/"
        },
        "id": "apK51A-328s8",
        "outputId": "ad6dbc5b-f6ca-4a58-afdc-6e38a177e637"
      },
      "execution_count": null,
      "outputs": [
        {
          "output_type": "stream",
          "name": "stdout",
          "text": [
            "i and d are not same\n"
          ]
        }
      ]
    },
    {
      "cell_type": "code",
      "source": [
        "items = [4, \"spoon\",7.9,\"cow\"]\n",
        "print(\"cow\" in items)"
      ],
      "metadata": {
        "colab": {
          "base_uri": "https://localhost:8080/"
        },
        "id": "aYv2_Cea30jJ",
        "outputId": "20948cef-6ae1-4cd2-8fc9-980675496001"
      },
      "execution_count": null,
      "outputs": [
        {
          "output_type": "stream",
          "name": "stdout",
          "text": [
            "True\n"
          ]
        }
      ]
    }
  ]
}